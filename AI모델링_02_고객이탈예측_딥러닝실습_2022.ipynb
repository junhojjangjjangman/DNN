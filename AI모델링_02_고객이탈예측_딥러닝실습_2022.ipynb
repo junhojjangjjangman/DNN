{
  "cells": [
    {
      "cell_type": "markdown",
      "metadata": {
        "id": "view-in-github",
        "colab_type": "text"
      },
      "source": [
        "<a href=\"https://colab.research.google.com/github/junhojjangjjangman/DNN/blob/main/AI%EB%AA%A8%EB%8D%B8%EB%A7%81_02_%EA%B3%A0%EA%B0%9D%EC%9D%B4%ED%83%88%EC%98%88%EC%B8%A1_%EB%94%A5%EB%9F%AC%EB%8B%9D%EC%8B%A4%EC%8A%B5_2022.ipynb\" target=\"_parent\"><img src=\"https://colab.research.google.com/assets/colab-badge.svg\" alt=\"Open In Colab\"/></a>"
      ]
    },
    {
      "cell_type": "markdown",
      "metadata": {
        "id": "OE89vy1a0YH3"
      },
      "source": [
        "# [실습] Python을 활용한 AI 모델링 - 딥러닝 파트\n"
      ]
    },
    {
      "cell_type": "code",
      "source": [
        "from google.colab import drive\n",
        "drive.mount('/content/drive')"
      ],
      "metadata": {
        "colab": {
          "base_uri": "https://localhost:8080/"
        },
        "id": "f-D-oJrUNubZ",
        "outputId": "7df86a42-dc6d-44f8-f3f4-8f9f1056e6c1"
      },
      "execution_count": null,
      "outputs": [
        {
          "output_type": "stream",
          "name": "stdout",
          "text": [
            "Mounted at /content/drive\n"
          ]
        }
      ]
    },
    {
      "cell_type": "markdown",
      "metadata": {
        "id": "jiPP1idv0YH8"
      },
      "source": [
        "## 학습목차\n",
        "1. 딥러닝 심층신경망(DNN) 모델 프로세스\n",
        " - 데이터 가져오기\n",
        " - 데이터 전처리\n",
        " - Train, Test 데이터셋 분할\n",
        " - 데이터 정규화\n",
        " - DNN 딥러닝 모델\n",
        "2. 재현율 성능이 좋지 않다. 어떻게 성능향상 할수 있나?"
      ]
    },
    {
      "cell_type": "markdown",
      "metadata": {
        "id": "Zr3QI2qG0YH9"
      },
      "source": [
        "#  \n",
        "# 1. 딥러닝 심층신경망(DNN) 모델 프로세스\n",
        "① 라이브러리 임포트(import)  \n",
        "② 데이터 가져오기(Loading the data)  \n",
        "③ 탐색적 데이터 분석(Exploratory Data Analysis)  \n",
        "④ 데이터 전처리(Data PreProcessing) : 데이터타입 변환, Null 데이터 처리, 누락데이터 처리, \n",
        "더미특성 생성, 특성 추출 (feature engineering) 등  \n",
        "⑤ Train, Test  데이터셋 분할  \n",
        "⑥ 데이터 정규화(Normalizing the Data)  \n",
        "⑦ 모델 개발(Creating the Model)  \n",
        "⑧ 모델 성능 평가"
      ]
    },
    {
      "cell_type": "markdown",
      "metadata": {
        "id": "l_4rL5l40YH-"
      },
      "source": [
        "## ① 라이브러리 임포트"
      ]
    },
    {
      "cell_type": "markdown",
      "metadata": {
        "id": "kMnCy3mj0YH-"
      },
      "source": [
        "##### 필요 라이브러리 임포트"
      ]
    },
    {
      "cell_type": "code",
      "execution_count": null,
      "metadata": {
        "id": "GLqgsJ3-0YH_"
      },
      "outputs": [],
      "source": [
        "import numpy as np\n",
        "import pandas as pd\n",
        "import matplotlib.pyplot as plt"
      ]
    },
    {
      "cell_type": "markdown",
      "metadata": {
        "id": "cCxbMaDD0YIB"
      },
      "source": [
        "## ② 데이터 로드"
      ]
    },
    {
      "cell_type": "markdown",
      "metadata": {
        "id": "7bPka6TR0YIC"
      },
      "source": [
        "##### <font color=blue> **[문제] 같은 폴더내에 있는 data_2022.csv 파일을 Pandas read_csv 함수를 이용하여 읽어 df 변수에 저장하세요.** </font>"
      ]
    },
    {
      "cell_type": "code",
      "source": [
        "# 구글 드라이브 마운트하기\n",
        "from google.colab import drive\n",
        "drive.mount('/content/drive')\n"
      ],
      "metadata": {
        "id": "SlVOpqRcuEPw",
        "colab": {
          "base_uri": "https://localhost:8080/"
        },
        "outputId": "c262acd9-df6e-46df-bbf5-841d683401bf"
      },
      "execution_count": null,
      "outputs": [
        {
          "output_type": "stream",
          "name": "stdout",
          "text": [
            "Mounted at /content/drive\n"
          ]
        }
      ]
    },
    {
      "cell_type": "code",
      "execution_count": null,
      "metadata": {
        "id": "EGM5tlnp0YIC",
        "colab": {
          "base_uri": "https://localhost:8080/",
          "height": 340
        },
        "outputId": "dcaa74c1-8812-487a-a1a4-96776c5429f9"
      },
      "outputs": [
        {
          "output_type": "execute_result",
          "data": {
            "text/plain": [
              "   gender Partner Dependents  tenure     MultipleLines InternetService  \\\n",
              "0    Male      No         No      34                No             DSL   \n",
              "1    Male      No         No       2                No             DSL   \n",
              "2    Male      No         No      45  No phone service             DSL   \n",
              "3  Female      No         No       2                No     Fiber optic   \n",
              "4  Female      No         No       8               Yes     Fiber optic   \n",
              "\n",
              "  OnlineSecurity OnlineBackup TechSupport StreamingTV StreamingMovies  \\\n",
              "0            Yes           No          No          No              No   \n",
              "1            Yes          Yes          No          No              No   \n",
              "2            Yes           No         Yes          No              No   \n",
              "3             No           No          No          No              No   \n",
              "4             No           No          No         Yes             Yes   \n",
              "\n",
              "         Contract PaperlessBilling              PaymentMethod  MonthlyCharges  \\\n",
              "0        One year               No               Mailed check           56.95   \n",
              "1  Month-to-month              Yes               Mailed check           53.85   \n",
              "2        One year               No  Bank transfer (automatic)           42.30   \n",
              "3  Month-to-month              Yes           Electronic check           70.70   \n",
              "4  Month-to-month              Yes           Electronic check           99.65   \n",
              "\n",
              "   TotalCharges  Churn  \n",
              "0       1889.50      0  \n",
              "1        108.15      1  \n",
              "2       1840.75      0  \n",
              "3        151.65      1  \n",
              "4        820.50      1  "
            ],
            "text/html": [
              "\n",
              "  <div id=\"df-f644989a-ef96-4dc3-901e-777b4a5dd56b\">\n",
              "    <div class=\"colab-df-container\">\n",
              "      <div>\n",
              "<style scoped>\n",
              "    .dataframe tbody tr th:only-of-type {\n",
              "        vertical-align: middle;\n",
              "    }\n",
              "\n",
              "    .dataframe tbody tr th {\n",
              "        vertical-align: top;\n",
              "    }\n",
              "\n",
              "    .dataframe thead th {\n",
              "        text-align: right;\n",
              "    }\n",
              "</style>\n",
              "<table border=\"1\" class=\"dataframe\">\n",
              "  <thead>\n",
              "    <tr style=\"text-align: right;\">\n",
              "      <th></th>\n",
              "      <th>gender</th>\n",
              "      <th>Partner</th>\n",
              "      <th>Dependents</th>\n",
              "      <th>tenure</th>\n",
              "      <th>MultipleLines</th>\n",
              "      <th>InternetService</th>\n",
              "      <th>OnlineSecurity</th>\n",
              "      <th>OnlineBackup</th>\n",
              "      <th>TechSupport</th>\n",
              "      <th>StreamingTV</th>\n",
              "      <th>StreamingMovies</th>\n",
              "      <th>Contract</th>\n",
              "      <th>PaperlessBilling</th>\n",
              "      <th>PaymentMethod</th>\n",
              "      <th>MonthlyCharges</th>\n",
              "      <th>TotalCharges</th>\n",
              "      <th>Churn</th>\n",
              "    </tr>\n",
              "  </thead>\n",
              "  <tbody>\n",
              "    <tr>\n",
              "      <th>0</th>\n",
              "      <td>Male</td>\n",
              "      <td>No</td>\n",
              "      <td>No</td>\n",
              "      <td>34</td>\n",
              "      <td>No</td>\n",
              "      <td>DSL</td>\n",
              "      <td>Yes</td>\n",
              "      <td>No</td>\n",
              "      <td>No</td>\n",
              "      <td>No</td>\n",
              "      <td>No</td>\n",
              "      <td>One year</td>\n",
              "      <td>No</td>\n",
              "      <td>Mailed check</td>\n",
              "      <td>56.95</td>\n",
              "      <td>1889.50</td>\n",
              "      <td>0</td>\n",
              "    </tr>\n",
              "    <tr>\n",
              "      <th>1</th>\n",
              "      <td>Male</td>\n",
              "      <td>No</td>\n",
              "      <td>No</td>\n",
              "      <td>2</td>\n",
              "      <td>No</td>\n",
              "      <td>DSL</td>\n",
              "      <td>Yes</td>\n",
              "      <td>Yes</td>\n",
              "      <td>No</td>\n",
              "      <td>No</td>\n",
              "      <td>No</td>\n",
              "      <td>Month-to-month</td>\n",
              "      <td>Yes</td>\n",
              "      <td>Mailed check</td>\n",
              "      <td>53.85</td>\n",
              "      <td>108.15</td>\n",
              "      <td>1</td>\n",
              "    </tr>\n",
              "    <tr>\n",
              "      <th>2</th>\n",
              "      <td>Male</td>\n",
              "      <td>No</td>\n",
              "      <td>No</td>\n",
              "      <td>45</td>\n",
              "      <td>No phone service</td>\n",
              "      <td>DSL</td>\n",
              "      <td>Yes</td>\n",
              "      <td>No</td>\n",
              "      <td>Yes</td>\n",
              "      <td>No</td>\n",
              "      <td>No</td>\n",
              "      <td>One year</td>\n",
              "      <td>No</td>\n",
              "      <td>Bank transfer (automatic)</td>\n",
              "      <td>42.30</td>\n",
              "      <td>1840.75</td>\n",
              "      <td>0</td>\n",
              "    </tr>\n",
              "    <tr>\n",
              "      <th>3</th>\n",
              "      <td>Female</td>\n",
              "      <td>No</td>\n",
              "      <td>No</td>\n",
              "      <td>2</td>\n",
              "      <td>No</td>\n",
              "      <td>Fiber optic</td>\n",
              "      <td>No</td>\n",
              "      <td>No</td>\n",
              "      <td>No</td>\n",
              "      <td>No</td>\n",
              "      <td>No</td>\n",
              "      <td>Month-to-month</td>\n",
              "      <td>Yes</td>\n",
              "      <td>Electronic check</td>\n",
              "      <td>70.70</td>\n",
              "      <td>151.65</td>\n",
              "      <td>1</td>\n",
              "    </tr>\n",
              "    <tr>\n",
              "      <th>4</th>\n",
              "      <td>Female</td>\n",
              "      <td>No</td>\n",
              "      <td>No</td>\n",
              "      <td>8</td>\n",
              "      <td>Yes</td>\n",
              "      <td>Fiber optic</td>\n",
              "      <td>No</td>\n",
              "      <td>No</td>\n",
              "      <td>No</td>\n",
              "      <td>Yes</td>\n",
              "      <td>Yes</td>\n",
              "      <td>Month-to-month</td>\n",
              "      <td>Yes</td>\n",
              "      <td>Electronic check</td>\n",
              "      <td>99.65</td>\n",
              "      <td>820.50</td>\n",
              "      <td>1</td>\n",
              "    </tr>\n",
              "  </tbody>\n",
              "</table>\n",
              "</div>\n",
              "      <button class=\"colab-df-convert\" onclick=\"convertToInteractive('df-f644989a-ef96-4dc3-901e-777b4a5dd56b')\"\n",
              "              title=\"Convert this dataframe to an interactive table.\"\n",
              "              style=\"display:none;\">\n",
              "        \n",
              "  <svg xmlns=\"http://www.w3.org/2000/svg\" height=\"24px\"viewBox=\"0 0 24 24\"\n",
              "       width=\"24px\">\n",
              "    <path d=\"M0 0h24v24H0V0z\" fill=\"none\"/>\n",
              "    <path d=\"M18.56 5.44l.94 2.06.94-2.06 2.06-.94-2.06-.94-.94-2.06-.94 2.06-2.06.94zm-11 1L8.5 8.5l.94-2.06 2.06-.94-2.06-.94L8.5 2.5l-.94 2.06-2.06.94zm10 10l.94 2.06.94-2.06 2.06-.94-2.06-.94-.94-2.06-.94 2.06-2.06.94z\"/><path d=\"M17.41 7.96l-1.37-1.37c-.4-.4-.92-.59-1.43-.59-.52 0-1.04.2-1.43.59L10.3 9.45l-7.72 7.72c-.78.78-.78 2.05 0 2.83L4 21.41c.39.39.9.59 1.41.59.51 0 1.02-.2 1.41-.59l7.78-7.78 2.81-2.81c.8-.78.8-2.07 0-2.86zM5.41 20L4 18.59l7.72-7.72 1.47 1.35L5.41 20z\"/>\n",
              "  </svg>\n",
              "      </button>\n",
              "      \n",
              "  <style>\n",
              "    .colab-df-container {\n",
              "      display:flex;\n",
              "      flex-wrap:wrap;\n",
              "      gap: 12px;\n",
              "    }\n",
              "\n",
              "    .colab-df-convert {\n",
              "      background-color: #E8F0FE;\n",
              "      border: none;\n",
              "      border-radius: 50%;\n",
              "      cursor: pointer;\n",
              "      display: none;\n",
              "      fill: #1967D2;\n",
              "      height: 32px;\n",
              "      padding: 0 0 0 0;\n",
              "      width: 32px;\n",
              "    }\n",
              "\n",
              "    .colab-df-convert:hover {\n",
              "      background-color: #E2EBFA;\n",
              "      box-shadow: 0px 1px 2px rgba(60, 64, 67, 0.3), 0px 1px 3px 1px rgba(60, 64, 67, 0.15);\n",
              "      fill: #174EA6;\n",
              "    }\n",
              "\n",
              "    [theme=dark] .colab-df-convert {\n",
              "      background-color: #3B4455;\n",
              "      fill: #D2E3FC;\n",
              "    }\n",
              "\n",
              "    [theme=dark] .colab-df-convert:hover {\n",
              "      background-color: #434B5C;\n",
              "      box-shadow: 0px 1px 3px 1px rgba(0, 0, 0, 0.15);\n",
              "      filter: drop-shadow(0px 1px 2px rgba(0, 0, 0, 0.3));\n",
              "      fill: #FFFFFF;\n",
              "    }\n",
              "  </style>\n",
              "\n",
              "      <script>\n",
              "        const buttonEl =\n",
              "          document.querySelector('#df-f644989a-ef96-4dc3-901e-777b4a5dd56b button.colab-df-convert');\n",
              "        buttonEl.style.display =\n",
              "          google.colab.kernel.accessAllowed ? 'block' : 'none';\n",
              "\n",
              "        async function convertToInteractive(key) {\n",
              "          const element = document.querySelector('#df-f644989a-ef96-4dc3-901e-777b4a5dd56b');\n",
              "          const dataTable =\n",
              "            await google.colab.kernel.invokeFunction('convertToInteractive',\n",
              "                                                     [key], {});\n",
              "          if (!dataTable) return;\n",
              "\n",
              "          const docLinkHtml = 'Like what you see? Visit the ' +\n",
              "            '<a target=\"_blank\" href=https://colab.research.google.com/notebooks/data_table.ipynb>data table notebook</a>'\n",
              "            + ' to learn more about interactive tables.';\n",
              "          element.innerHTML = '';\n",
              "          dataTable['output_type'] = 'display_data';\n",
              "          await google.colab.output.renderOutput(dataTable, element);\n",
              "          const docLink = document.createElement('div');\n",
              "          docLink.innerHTML = docLinkHtml;\n",
              "          element.appendChild(docLink);\n",
              "        }\n",
              "      </script>\n",
              "    </div>\n",
              "  </div>\n",
              "  "
            ]
          },
          "metadata": {},
          "execution_count": 4
        }
      ],
      "source": [
        "# 읽어 들일 파일명 : data_2022.csv\n",
        "# Pandas read_csv 함수 활용\n",
        "# 결과 : df 저장\n",
        "df = pd.read_csv(\"/content/drive/MyDrive/Colab Notebooks/DataSet/data_2022.csv\")\n",
        "df.head()"
      ]
    },
    {
      "cell_type": "markdown",
      "metadata": {
        "id": "1rOQN4E20YID"
      },
      "source": [
        "## ③ 데이터 분석"
      ]
    },
    {
      "cell_type": "code",
      "execution_count": null,
      "metadata": {
        "id": "DiS0N_fP0YIE",
        "colab": {
          "base_uri": "https://localhost:8080/"
        },
        "outputId": "206f313e-b088-4cfb-f12c-ea69f4a237a7"
      },
      "outputs": [
        {
          "output_type": "stream",
          "name": "stdout",
          "text": [
            "<class 'pandas.core.frame.DataFrame'>\n",
            "RangeIndex: 7027 entries, 0 to 7026\n",
            "Data columns (total 17 columns):\n",
            " #   Column            Non-Null Count  Dtype  \n",
            "---  ------            --------------  -----  \n",
            " 0   gender            7027 non-null   object \n",
            " 1   Partner           7027 non-null   object \n",
            " 2   Dependents        7027 non-null   object \n",
            " 3   tenure            7027 non-null   int64  \n",
            " 4   MultipleLines     7027 non-null   object \n",
            " 5   InternetService   7027 non-null   object \n",
            " 6   OnlineSecurity    7027 non-null   object \n",
            " 7   OnlineBackup      7027 non-null   object \n",
            " 8   TechSupport       7027 non-null   object \n",
            " 9   StreamingTV       7027 non-null   object \n",
            " 10  StreamingMovies   7027 non-null   object \n",
            " 11  Contract          7027 non-null   object \n",
            " 12  PaperlessBilling  7027 non-null   object \n",
            " 13  PaymentMethod     7027 non-null   object \n",
            " 14  MonthlyCharges    7027 non-null   float64\n",
            " 15  TotalCharges      7027 non-null   float64\n",
            " 16  Churn             7027 non-null   int64  \n",
            "dtypes: float64(2), int64(2), object(13)\n",
            "memory usage: 933.4+ KB\n"
          ]
        }
      ],
      "source": [
        "# 17컬럼, 7027 라인\n",
        "df.info()"
      ]
    },
    {
      "cell_type": "code",
      "execution_count": null,
      "metadata": {
        "id": "GkYbGV440YIF",
        "colab": {
          "base_uri": "https://localhost:8080/",
          "height": 340
        },
        "outputId": "e6add276-b290-4c56-ab2f-7846f38cc7de"
      },
      "outputs": [
        {
          "output_type": "execute_result",
          "data": {
            "text/plain": [
              "      gender Partner Dependents  tenure     MultipleLines InternetService  \\\n",
              "7022  Female      No         No      72                No              No   \n",
              "7023    Male     Yes        Yes      24               Yes             DSL   \n",
              "7024  Female     Yes        Yes      72               Yes     Fiber optic   \n",
              "7025  Female     Yes        Yes      11  No phone service             DSL   \n",
              "7026    Male     Yes         No       4               Yes     Fiber optic   \n",
              "\n",
              "           OnlineSecurity         OnlineBackup          TechSupport  \\\n",
              "7022  No internet service  No internet service  No internet service   \n",
              "7023                  Yes                   No                  Yes   \n",
              "7024                   No                  Yes                   No   \n",
              "7025                  Yes                   No                   No   \n",
              "7026                   No                   No                   No   \n",
              "\n",
              "              StreamingTV      StreamingMovies        Contract  \\\n",
              "7022  No internet service  No internet service        Two year   \n",
              "7023                  Yes                  Yes        One year   \n",
              "7024                  Yes                  Yes        One year   \n",
              "7025                   No                   No  Month-to-month   \n",
              "7026                   No                   No  Month-to-month   \n",
              "\n",
              "     PaperlessBilling              PaymentMethod  MonthlyCharges  \\\n",
              "7022              Yes  Bank transfer (automatic)           21.15   \n",
              "7023              Yes               Mailed check           84.80   \n",
              "7024              Yes    Credit card (automatic)          103.20   \n",
              "7025              Yes           Electronic check           29.60   \n",
              "7026              Yes               Mailed check           74.40   \n",
              "\n",
              "      TotalCharges  Churn  \n",
              "7022       1419.40      0  \n",
              "7023       1990.50      0  \n",
              "7024       7362.90      0  \n",
              "7025        346.45      0  \n",
              "7026        306.60      1  "
            ],
            "text/html": [
              "\n",
              "  <div id=\"df-443b156f-f290-4874-af90-d3422dec1a6f\">\n",
              "    <div class=\"colab-df-container\">\n",
              "      <div>\n",
              "<style scoped>\n",
              "    .dataframe tbody tr th:only-of-type {\n",
              "        vertical-align: middle;\n",
              "    }\n",
              "\n",
              "    .dataframe tbody tr th {\n",
              "        vertical-align: top;\n",
              "    }\n",
              "\n",
              "    .dataframe thead th {\n",
              "        text-align: right;\n",
              "    }\n",
              "</style>\n",
              "<table border=\"1\" class=\"dataframe\">\n",
              "  <thead>\n",
              "    <tr style=\"text-align: right;\">\n",
              "      <th></th>\n",
              "      <th>gender</th>\n",
              "      <th>Partner</th>\n",
              "      <th>Dependents</th>\n",
              "      <th>tenure</th>\n",
              "      <th>MultipleLines</th>\n",
              "      <th>InternetService</th>\n",
              "      <th>OnlineSecurity</th>\n",
              "      <th>OnlineBackup</th>\n",
              "      <th>TechSupport</th>\n",
              "      <th>StreamingTV</th>\n",
              "      <th>StreamingMovies</th>\n",
              "      <th>Contract</th>\n",
              "      <th>PaperlessBilling</th>\n",
              "      <th>PaymentMethod</th>\n",
              "      <th>MonthlyCharges</th>\n",
              "      <th>TotalCharges</th>\n",
              "      <th>Churn</th>\n",
              "    </tr>\n",
              "  </thead>\n",
              "  <tbody>\n",
              "    <tr>\n",
              "      <th>7022</th>\n",
              "      <td>Female</td>\n",
              "      <td>No</td>\n",
              "      <td>No</td>\n",
              "      <td>72</td>\n",
              "      <td>No</td>\n",
              "      <td>No</td>\n",
              "      <td>No internet service</td>\n",
              "      <td>No internet service</td>\n",
              "      <td>No internet service</td>\n",
              "      <td>No internet service</td>\n",
              "      <td>No internet service</td>\n",
              "      <td>Two year</td>\n",
              "      <td>Yes</td>\n",
              "      <td>Bank transfer (automatic)</td>\n",
              "      <td>21.15</td>\n",
              "      <td>1419.40</td>\n",
              "      <td>0</td>\n",
              "    </tr>\n",
              "    <tr>\n",
              "      <th>7023</th>\n",
              "      <td>Male</td>\n",
              "      <td>Yes</td>\n",
              "      <td>Yes</td>\n",
              "      <td>24</td>\n",
              "      <td>Yes</td>\n",
              "      <td>DSL</td>\n",
              "      <td>Yes</td>\n",
              "      <td>No</td>\n",
              "      <td>Yes</td>\n",
              "      <td>Yes</td>\n",
              "      <td>Yes</td>\n",
              "      <td>One year</td>\n",
              "      <td>Yes</td>\n",
              "      <td>Mailed check</td>\n",
              "      <td>84.80</td>\n",
              "      <td>1990.50</td>\n",
              "      <td>0</td>\n",
              "    </tr>\n",
              "    <tr>\n",
              "      <th>7024</th>\n",
              "      <td>Female</td>\n",
              "      <td>Yes</td>\n",
              "      <td>Yes</td>\n",
              "      <td>72</td>\n",
              "      <td>Yes</td>\n",
              "      <td>Fiber optic</td>\n",
              "      <td>No</td>\n",
              "      <td>Yes</td>\n",
              "      <td>No</td>\n",
              "      <td>Yes</td>\n",
              "      <td>Yes</td>\n",
              "      <td>One year</td>\n",
              "      <td>Yes</td>\n",
              "      <td>Credit card (automatic)</td>\n",
              "      <td>103.20</td>\n",
              "      <td>7362.90</td>\n",
              "      <td>0</td>\n",
              "    </tr>\n",
              "    <tr>\n",
              "      <th>7025</th>\n",
              "      <td>Female</td>\n",
              "      <td>Yes</td>\n",
              "      <td>Yes</td>\n",
              "      <td>11</td>\n",
              "      <td>No phone service</td>\n",
              "      <td>DSL</td>\n",
              "      <td>Yes</td>\n",
              "      <td>No</td>\n",
              "      <td>No</td>\n",
              "      <td>No</td>\n",
              "      <td>No</td>\n",
              "      <td>Month-to-month</td>\n",
              "      <td>Yes</td>\n",
              "      <td>Electronic check</td>\n",
              "      <td>29.60</td>\n",
              "      <td>346.45</td>\n",
              "      <td>0</td>\n",
              "    </tr>\n",
              "    <tr>\n",
              "      <th>7026</th>\n",
              "      <td>Male</td>\n",
              "      <td>Yes</td>\n",
              "      <td>No</td>\n",
              "      <td>4</td>\n",
              "      <td>Yes</td>\n",
              "      <td>Fiber optic</td>\n",
              "      <td>No</td>\n",
              "      <td>No</td>\n",
              "      <td>No</td>\n",
              "      <td>No</td>\n",
              "      <td>No</td>\n",
              "      <td>Month-to-month</td>\n",
              "      <td>Yes</td>\n",
              "      <td>Mailed check</td>\n",
              "      <td>74.40</td>\n",
              "      <td>306.60</td>\n",
              "      <td>1</td>\n",
              "    </tr>\n",
              "  </tbody>\n",
              "</table>\n",
              "</div>\n",
              "      <button class=\"colab-df-convert\" onclick=\"convertToInteractive('df-443b156f-f290-4874-af90-d3422dec1a6f')\"\n",
              "              title=\"Convert this dataframe to an interactive table.\"\n",
              "              style=\"display:none;\">\n",
              "        \n",
              "  <svg xmlns=\"http://www.w3.org/2000/svg\" height=\"24px\"viewBox=\"0 0 24 24\"\n",
              "       width=\"24px\">\n",
              "    <path d=\"M0 0h24v24H0V0z\" fill=\"none\"/>\n",
              "    <path d=\"M18.56 5.44l.94 2.06.94-2.06 2.06-.94-2.06-.94-.94-2.06-.94 2.06-2.06.94zm-11 1L8.5 8.5l.94-2.06 2.06-.94-2.06-.94L8.5 2.5l-.94 2.06-2.06.94zm10 10l.94 2.06.94-2.06 2.06-.94-2.06-.94-.94-2.06-.94 2.06-2.06.94z\"/><path d=\"M17.41 7.96l-1.37-1.37c-.4-.4-.92-.59-1.43-.59-.52 0-1.04.2-1.43.59L10.3 9.45l-7.72 7.72c-.78.78-.78 2.05 0 2.83L4 21.41c.39.39.9.59 1.41.59.51 0 1.02-.2 1.41-.59l7.78-7.78 2.81-2.81c.8-.78.8-2.07 0-2.86zM5.41 20L4 18.59l7.72-7.72 1.47 1.35L5.41 20z\"/>\n",
              "  </svg>\n",
              "      </button>\n",
              "      \n",
              "  <style>\n",
              "    .colab-df-container {\n",
              "      display:flex;\n",
              "      flex-wrap:wrap;\n",
              "      gap: 12px;\n",
              "    }\n",
              "\n",
              "    .colab-df-convert {\n",
              "      background-color: #E8F0FE;\n",
              "      border: none;\n",
              "      border-radius: 50%;\n",
              "      cursor: pointer;\n",
              "      display: none;\n",
              "      fill: #1967D2;\n",
              "      height: 32px;\n",
              "      padding: 0 0 0 0;\n",
              "      width: 32px;\n",
              "    }\n",
              "\n",
              "    .colab-df-convert:hover {\n",
              "      background-color: #E2EBFA;\n",
              "      box-shadow: 0px 1px 2px rgba(60, 64, 67, 0.3), 0px 1px 3px 1px rgba(60, 64, 67, 0.15);\n",
              "      fill: #174EA6;\n",
              "    }\n",
              "\n",
              "    [theme=dark] .colab-df-convert {\n",
              "      background-color: #3B4455;\n",
              "      fill: #D2E3FC;\n",
              "    }\n",
              "\n",
              "    [theme=dark] .colab-df-convert:hover {\n",
              "      background-color: #434B5C;\n",
              "      box-shadow: 0px 1px 3px 1px rgba(0, 0, 0, 0.15);\n",
              "      filter: drop-shadow(0px 1px 2px rgba(0, 0, 0, 0.3));\n",
              "      fill: #FFFFFF;\n",
              "    }\n",
              "  </style>\n",
              "\n",
              "      <script>\n",
              "        const buttonEl =\n",
              "          document.querySelector('#df-443b156f-f290-4874-af90-d3422dec1a6f button.colab-df-convert');\n",
              "        buttonEl.style.display =\n",
              "          google.colab.kernel.accessAllowed ? 'block' : 'none';\n",
              "\n",
              "        async function convertToInteractive(key) {\n",
              "          const element = document.querySelector('#df-443b156f-f290-4874-af90-d3422dec1a6f');\n",
              "          const dataTable =\n",
              "            await google.colab.kernel.invokeFunction('convertToInteractive',\n",
              "                                                     [key], {});\n",
              "          if (!dataTable) return;\n",
              "\n",
              "          const docLinkHtml = 'Like what you see? Visit the ' +\n",
              "            '<a target=\"_blank\" href=https://colab.research.google.com/notebooks/data_table.ipynb>data table notebook</a>'\n",
              "            + ' to learn more about interactive tables.';\n",
              "          element.innerHTML = '';\n",
              "          dataTable['output_type'] = 'display_data';\n",
              "          await google.colab.output.renderOutput(dataTable, element);\n",
              "          const docLink = document.createElement('div');\n",
              "          docLink.innerHTML = docLinkHtml;\n",
              "          element.appendChild(docLink);\n",
              "        }\n",
              "      </script>\n",
              "    </div>\n",
              "  </div>\n",
              "  "
            ]
          },
          "metadata": {},
          "execution_count": 6
        }
      ],
      "source": [
        "df.tail()"
      ]
    },
    {
      "cell_type": "code",
      "execution_count": null,
      "metadata": {
        "id": "U_FXwsqv0YIF",
        "colab": {
          "base_uri": "https://localhost:8080/",
          "height": 280
        },
        "outputId": "f67c7b92-b700-4556-fea0-5a308379006d"
      },
      "outputs": [
        {
          "output_type": "execute_result",
          "data": {
            "text/plain": [
              "<matplotlib.axes._subplots.AxesSubplot at 0x7f2e62979790>"
            ]
          },
          "metadata": {},
          "execution_count": 7
        },
        {
          "output_type": "display_data",
          "data": {
            "text/plain": [
              "<Figure size 432x288 with 1 Axes>"
            ],
            "image/png": "[encoded data removed]"
          },
          "metadata": {
            "needs_background": "light"
          }
        }
      ],
      "source": [
        "# Churn 레이블 불균형 \n",
        "df['Churn'].value_counts().plot(kind='bar')"
      ]
    },
    {
      "cell_type": "markdown",
      "metadata": {
        "id": "5Fow_uNj0YIG"
      },
      "source": [
        "## ④ 데이터 전처리"
      ]
    },
    {
      "cell_type": "markdown",
      "metadata": {
        "id": "pDuo6yXl0YIG"
      },
      "source": [
        "+ 모든 데이터값들은 숫자형으로 되어야 한다. 즉, Ojbect 타입을 모든 숫자형 변경 필요\n",
        "+ Object 컬럼에 대해 Pandas get_dummies 함수 활용하여 One-Hot-Encoding"
      ]
    },
    {
      "cell_type": "code",
      "execution_count": null,
      "metadata": {
        "id": "KtX0jsj_0YIH",
        "colab": {
          "base_uri": "https://localhost:8080/"
        },
        "outputId": "457888d9-9b11-4632-c690-861242a9f68f"
      },
      "outputs": [
        {
          "output_type": "execute_result",
          "data": {
            "text/plain": [
              "array(['gender', 'Partner', 'Dependents', 'MultipleLines',\n",
              "       'InternetService', 'OnlineSecurity', 'OnlineBackup', 'TechSupport',\n",
              "       'StreamingTV', 'StreamingMovies', 'Contract', 'PaperlessBilling',\n",
              "       'PaymentMethod'], dtype=object)"
            ]
          },
          "metadata": {},
          "execution_count": 8
        }
      ],
      "source": [
        "# Object 컬럼명 수집\n",
        "\n",
        "cal_cols = df.select_dtypes('object').columns.values\n",
        "cal_cols"
      ]
    },
    {
      "cell_type": "markdown",
      "metadata": {
        "id": "mkztuRd30YIH"
      },
      "source": [
        "##### <font color=blue> **[문제] Object 컬럼에 대해 One-Hot-Encoding 수행하고 그 결과를 df1 변수에 저장하세요.** </font>"
      ]
    },
    {
      "cell_type": "code",
      "execution_count": null,
      "metadata": {
        "id": "AqzsnZZp0YIH"
      },
      "outputs": [],
      "source": [
        "# Pandas get_dummies() 함수 이용\n",
        "# 원-핫-인코딩 결과를 df1 저장\n",
        "\n",
        "df1 = pd.get_dummies(data=df, columns=cal_cols)\n"
      ]
    },
    {
      "cell_type": "code",
      "execution_count": null,
      "metadata": {
        "id": "Exw5r3J_0YII",
        "colab": {
          "base_uri": "https://localhost:8080/"
        },
        "outputId": "85cb4c96-8bf9-4d3b-da82-419821de48c0"
      },
      "outputs": [
        {
          "output_type": "stream",
          "name": "stdout",
          "text": [
            "<class 'pandas.core.frame.DataFrame'>\n",
            "RangeIndex: 7027 entries, 0 to 7026\n",
            "Data columns (total 40 columns):\n",
            " #   Column                                   Non-Null Count  Dtype  \n",
            "---  ------                                   --------------  -----  \n",
            " 0   tenure                                   7027 non-null   int64  \n",
            " 1   MonthlyCharges                           7027 non-null   float64\n",
            " 2   TotalCharges                             7027 non-null   float64\n",
            " 3   Churn                                    7027 non-null   int64  \n",
            " 4   gender_Female                            7027 non-null   uint8  \n",
            " 5   gender_Male                              7027 non-null   uint8  \n",
            " 6   Partner_No                               7027 non-null   uint8  \n",
            " 7   Partner_Yes                              7027 non-null   uint8  \n",
            " 8   Dependents_No                            7027 non-null   uint8  \n",
            " 9   Dependents_Yes                           7027 non-null   uint8  \n",
            " 10  MultipleLines_No                         7027 non-null   uint8  \n",
            " 11  MultipleLines_No phone service           7027 non-null   uint8  \n",
            " 12  MultipleLines_Yes                        7027 non-null   uint8  \n",
            " 13  InternetService_DSL                      7027 non-null   uint8  \n",
            " 14  InternetService_Fiber optic              7027 non-null   uint8  \n",
            " 15  InternetService_No                       7027 non-null   uint8  \n",
            " 16  OnlineSecurity_No                        7027 non-null   uint8  \n",
            " 17  OnlineSecurity_No internet service       7027 non-null   uint8  \n",
            " 18  OnlineSecurity_Yes                       7027 non-null   uint8  \n",
            " 19  OnlineBackup_No                          7027 non-null   uint8  \n",
            " 20  OnlineBackup_No internet service         7027 non-null   uint8  \n",
            " 21  OnlineBackup_Yes                         7027 non-null   uint8  \n",
            " 22  TechSupport_No                           7027 non-null   uint8  \n",
            " 23  TechSupport_No internet service          7027 non-null   uint8  \n",
            " 24  TechSupport_Yes                          7027 non-null   uint8  \n",
            " 25  StreamingTV_No                           7027 non-null   uint8  \n",
            " 26  StreamingTV_No internet service          7027 non-null   uint8  \n",
            " 27  StreamingTV_Yes                          7027 non-null   uint8  \n",
            " 28  StreamingMovies_No                       7027 non-null   uint8  \n",
            " 29  StreamingMovies_No internet service      7027 non-null   uint8  \n",
            " 30  StreamingMovies_Yes                      7027 non-null   uint8  \n",
            " 31  Contract_Month-to-month                  7027 non-null   uint8  \n",
            " 32  Contract_One year                        7027 non-null   uint8  \n",
            " 33  Contract_Two year                        7027 non-null   uint8  \n",
            " 34  PaperlessBilling_No                      7027 non-null   uint8  \n",
            " 35  PaperlessBilling_Yes                     7027 non-null   uint8  \n",
            " 36  PaymentMethod_Bank transfer (automatic)  7027 non-null   uint8  \n",
            " 37  PaymentMethod_Credit card (automatic)    7027 non-null   uint8  \n",
            " 38  PaymentMethod_Electronic check           7027 non-null   uint8  \n",
            " 39  PaymentMethod_Mailed check               7027 non-null   uint8  \n",
            "dtypes: float64(2), int64(2), uint8(36)\n",
            "memory usage: 466.8 KB\n"
          ]
        }
      ],
      "source": [
        "# 19컬럼, 7814 라인\n",
        "df1.info()"
      ]
    },
    {
      "cell_type": "markdown",
      "metadata": {
        "id": "eBbc5LqJ0YII"
      },
      "source": [
        "## ⑤ Train, Test  데이터셋 분할"
      ]
    },
    {
      "cell_type": "code",
      "execution_count": null,
      "metadata": {
        "id": "2wY_7WCU0YIJ"
      },
      "outputs": [],
      "source": [
        "from sklearn.model_selection import train_test_split"
      ]
    },
    {
      "cell_type": "code",
      "execution_count": null,
      "metadata": {
        "id": "i0PeCxoK0YIJ"
      },
      "outputs": [],
      "source": [
        "X = df1.drop('Churn', axis=1).values\n",
        "y = df1['Churn'].values"
      ]
    },
    {
      "cell_type": "code",
      "execution_count": null,
      "metadata": {
        "id": "dScRTh-M0YIJ"
      },
      "outputs": [],
      "source": [
        "X_train, X_test, y_train, y_test = train_test_split(X, y, \n",
        "                                                    test_size=0.3, \n",
        "                                                    stratify=y,\n",
        "                                                    random_state=42)"
      ]
    },
    {
      "cell_type": "code",
      "execution_count": null,
      "metadata": {
        "id": "wJ3x57Ml0YIK",
        "colab": {
          "base_uri": "https://localhost:8080/"
        },
        "outputId": "80ea21e9-0355-4524-9d49-b58c67ac04f6"
      },
      "outputs": [
        {
          "output_type": "execute_result",
          "data": {
            "text/plain": [
              "((4918, 39), (2109, 39))"
            ]
          },
          "metadata": {},
          "execution_count": 14
        }
      ],
      "source": [
        "X_train.shape, X_test.shape"
      ]
    },
    {
      "cell_type": "code",
      "execution_count": null,
      "metadata": {
        "id": "GHDTvpRn0YIK",
        "colab": {
          "base_uri": "https://localhost:8080/"
        },
        "outputId": "2d7b16dd-1702-4bb1-bd36-d96e4170d606"
      },
      "outputs": [
        {
          "output_type": "execute_result",
          "data": {
            "text/plain": [
              "(4918,)"
            ]
          },
          "metadata": {},
          "execution_count": 15
        }
      ],
      "source": [
        "y_train.shape"
      ]
    },
    {
      "cell_type": "markdown",
      "metadata": {
        "id": "KJBB8fYo0YIK"
      },
      "source": [
        "## ⑥ 데이터 정규화/스케일링(Normalizing/Scaling)"
      ]
    },
    {
      "cell_type": "code",
      "execution_count": null,
      "metadata": {
        "id": "cmGg6oMD0YIK",
        "colab": {
          "base_uri": "https://localhost:8080/",
          "height": 334
        },
        "outputId": "0f5e7dd8-8335-4217-d7f3-1254e4d03397"
      },
      "outputs": [
        {
          "output_type": "execute_result",
          "data": {
            "text/plain": [
              "      tenure  MonthlyCharges  TotalCharges  Churn  gender_Female  gender_Male  \\\n",
              "7022      72           21.15       1419.40      0              1            0   \n",
              "7023      24           84.80       1990.50      0              0            1   \n",
              "7024      72          103.20       7362.90      0              1            0   \n",
              "7025      11           29.60        346.45      0              1            0   \n",
              "7026       4           74.40        306.60      1              0            1   \n",
              "\n",
              "      Partner_No  Partner_Yes  Dependents_No  Dependents_Yes  ...  \\\n",
              "7022           1            0              1               0  ...   \n",
              "7023           0            1              0               1  ...   \n",
              "7024           0            1              0               1  ...   \n",
              "7025           0            1              0               1  ...   \n",
              "7026           0            1              1               0  ...   \n",
              "\n",
              "      StreamingMovies_Yes  Contract_Month-to-month  Contract_One year  \\\n",
              "7022                    0                        0                  0   \n",
              "7023                    1                        0                  1   \n",
              "7024                    1                        0                  1   \n",
              "7025                    0                        1                  0   \n",
              "7026                    0                        1                  0   \n",
              "\n",
              "      Contract_Two year  PaperlessBilling_No  PaperlessBilling_Yes  \\\n",
              "7022                  1                    0                     1   \n",
              "7023                  0                    0                     1   \n",
              "7024                  0                    0                     1   \n",
              "7025                  0                    0                     1   \n",
              "7026                  0                    0                     1   \n",
              "\n",
              "      PaymentMethod_Bank transfer (automatic)  \\\n",
              "7022                                        1   \n",
              "7023                                        0   \n",
              "7024                                        0   \n",
              "7025                                        0   \n",
              "7026                                        0   \n",
              "\n",
              "      PaymentMethod_Credit card (automatic)  PaymentMethod_Electronic check  \\\n",
              "7022                                      0                               0   \n",
              "7023                                      0                               0   \n",
              "7024                                      1                               0   \n",
              "7025                                      0                               1   \n",
              "7026                                      0                               0   \n",
              "\n",
              "      PaymentMethod_Mailed check  \n",
              "7022                           0  \n",
              "7023                           1  \n",
              "7024                           0  \n",
              "7025                           0  \n",
              "7026                           1  \n",
              "\n",
              "[5 rows x 40 columns]"
            ],
            "text/html": [
              "\n",
              "  <div id=\"df-bb676964-2aba-4293-aa83-f228e71b84dc\">\n",
              "    <div class=\"colab-df-container\">\n",
              "      <div>\n",
              "<style scoped>\n",
              "    .dataframe tbody tr th:only-of-type {\n",
              "        vertical-align: middle;\n",
              "    }\n",
              "\n",
              "    .dataframe tbody tr th {\n",
              "        vertical-align: top;\n",
              "    }\n",
              "\n",
              "    .dataframe thead th {\n",
              "        text-align: right;\n",
              "    }\n",
              "</style>\n",
              "<table border=\"1\" class=\"dataframe\">\n",
              "  <thead>\n",
              "    <tr style=\"text-align: right;\">\n",
              "      <th></th>\n",
              "      <th>tenure</th>\n",
              "      <th>MonthlyCharges</th>\n",
              "      <th>TotalCharges</th>\n",
              "      <th>Churn</th>\n",
              "      <th>gender_Female</th>\n",
              "      <th>gender_Male</th>\n",
              "      <th>Partner_No</th>\n",
              "      <th>Partner_Yes</th>\n",
              "      <th>Dependents_No</th>\n",
              "      <th>Dependents_Yes</th>\n",
              "      <th>...</th>\n",
              "      <th>StreamingMovies_Yes</th>\n",
              "      <th>Contract_Month-to-month</th>\n",
              "      <th>Contract_One year</th>\n",
              "      <th>Contract_Two year</th>\n",
              "      <th>PaperlessBilling_No</th>\n",
              "      <th>PaperlessBilling_Yes</th>\n",
              "      <th>PaymentMethod_Bank transfer (automatic)</th>\n",
              "      <th>PaymentMethod_Credit card (automatic)</th>\n",
              "      <th>PaymentMethod_Electronic check</th>\n",
              "      <th>PaymentMethod_Mailed check</th>\n",
              "    </tr>\n",
              "  </thead>\n",
              "  <tbody>\n",
              "    <tr>\n",
              "      <th>7022</th>\n",
              "      <td>72</td>\n",
              "      <td>21.15</td>\n",
              "      <td>1419.40</td>\n",
              "      <td>0</td>\n",
              "      <td>1</td>\n",
              "      <td>0</td>\n",
              "      <td>1</td>\n",
              "      <td>0</td>\n",
              "      <td>1</td>\n",
              "      <td>0</td>\n",
              "      <td>...</td>\n",
              "      <td>0</td>\n",
              "      <td>0</td>\n",
              "      <td>0</td>\n",
              "      <td>1</td>\n",
              "      <td>0</td>\n",
              "      <td>1</td>\n",
              "      <td>1</td>\n",
              "      <td>0</td>\n",
              "      <td>0</td>\n",
              "      <td>0</td>\n",
              "    </tr>\n",
              "    <tr>\n",
              "      <th>7023</th>\n",
              "      <td>24</td>\n",
              "      <td>84.80</td>\n",
              "      <td>1990.50</td>\n",
              "      <td>0</td>\n",
              "      <td>0</td>\n",
              "      <td>1</td>\n",
              "      <td>0</td>\n",
              "      <td>1</td>\n",
              "      <td>0</td>\n",
              "      <td>1</td>\n",
              "      <td>...</td>\n",
              "      <td>1</td>\n",
              "      <td>0</td>\n",
              "      <td>1</td>\n",
              "      <td>0</td>\n",
              "      <td>0</td>\n",
              "      <td>1</td>\n",
              "      <td>0</td>\n",
              "      <td>0</td>\n",
              "      <td>0</td>\n",
              "      <td>1</td>\n",
              "    </tr>\n",
              "    <tr>\n",
              "      <th>7024</th>\n",
              "      <td>72</td>\n",
              "      <td>103.20</td>\n",
              "      <td>7362.90</td>\n",
              "      <td>0</td>\n",
              "      <td>1</td>\n",
              "      <td>0</td>\n",
              "      <td>0</td>\n",
              "      <td>1</td>\n",
              "      <td>0</td>\n",
              "      <td>1</td>\n",
              "      <td>...</td>\n",
              "      <td>1</td>\n",
              "      <td>0</td>\n",
              "      <td>1</td>\n",
              "      <td>0</td>\n",
              "      <td>0</td>\n",
              "      <td>1</td>\n",
              "      <td>0</td>\n",
              "      <td>1</td>\n",
              "      <td>0</td>\n",
              "      <td>0</td>\n",
              "    </tr>\n",
              "    <tr>\n",
              "      <th>7025</th>\n",
              "      <td>11</td>\n",
              "      <td>29.60</td>\n",
              "      <td>346.45</td>\n",
              "      <td>0</td>\n",
              "      <td>1</td>\n",
              "      <td>0</td>\n",
              "      <td>0</td>\n",
              "      <td>1</td>\n",
              "      <td>0</td>\n",
              "      <td>1</td>\n",
              "      <td>...</td>\n",
              "      <td>0</td>\n",
              "      <td>1</td>\n",
              "      <td>0</td>\n",
              "      <td>0</td>\n",
              "      <td>0</td>\n",
              "      <td>1</td>\n",
              "      <td>0</td>\n",
              "      <td>0</td>\n",
              "      <td>1</td>\n",
              "      <td>0</td>\n",
              "    </tr>\n",
              "    <tr>\n",
              "      <th>7026</th>\n",
              "      <td>4</td>\n",
              "      <td>74.40</td>\n",
              "      <td>306.60</td>\n",
              "      <td>1</td>\n",
              "      <td>0</td>\n",
              "      <td>1</td>\n",
              "      <td>0</td>\n",
              "      <td>1</td>\n",
              "      <td>1</td>\n",
              "      <td>0</td>\n",
              "      <td>...</td>\n",
              "      <td>0</td>\n",
              "      <td>1</td>\n",
              "      <td>0</td>\n",
              "      <td>0</td>\n",
              "      <td>0</td>\n",
              "      <td>1</td>\n",
              "      <td>0</td>\n",
              "      <td>0</td>\n",
              "      <td>0</td>\n",
              "      <td>1</td>\n",
              "    </tr>\n",
              "  </tbody>\n",
              "</table>\n",
              "<p>5 rows × 40 columns</p>\n",
              "</div>\n",
              "      <button class=\"colab-df-convert\" onclick=\"convertToInteractive('df-bb676964-2aba-4293-aa83-f228e71b84dc')\"\n",
              "              title=\"Convert this dataframe to an interactive table.\"\n",
              "              style=\"display:none;\">\n",
              "        \n",
              "  <svg xmlns=\"http://www.w3.org/2000/svg\" height=\"24px\"viewBox=\"0 0 24 24\"\n",
              "       width=\"24px\">\n",
              "    <path d=\"M0 0h24v24H0V0z\" fill=\"none\"/>\n",
              "    <path d=\"M18.56 5.44l.94 2.06.94-2.06 2.06-.94-2.06-.94-.94-2.06-.94 2.06-2.06.94zm-11 1L8.5 8.5l.94-2.06 2.06-.94-2.06-.94L8.5 2.5l-.94 2.06-2.06.94zm10 10l.94 2.06.94-2.06 2.06-.94-2.06-.94-.94-2.06-.94 2.06-2.06.94z\"/><path d=\"M17.41 7.96l-1.37-1.37c-.4-.4-.92-.59-1.43-.59-.52 0-1.04.2-1.43.59L10.3 9.45l-7.72 7.72c-.78.78-.78 2.05 0 2.83L4 21.41c.39.39.9.59 1.41.59.51 0 1.02-.2 1.41-.59l7.78-7.78 2.81-2.81c.8-.78.8-2.07 0-2.86zM5.41 20L4 18.59l7.72-7.72 1.47 1.35L5.41 20z\"/>\n",
              "  </svg>\n",
              "      </button>\n",
              "      \n",
              "  <style>\n",
              "    .colab-df-container {\n",
              "      display:flex;\n",
              "      flex-wrap:wrap;\n",
              "      gap: 12px;\n",
              "    }\n",
              "\n",
              "    .colab-df-convert {\n",
              "      background-color: #E8F0FE;\n",
              "      border: none;\n",
              "      border-radius: 50%;\n",
              "      cursor: pointer;\n",
              "      display: none;\n",
              "      fill: #1967D2;\n",
              "      height: 32px;\n",
              "      padding: 0 0 0 0;\n",
              "      width: 32px;\n",
              "    }\n",
              "\n",
              "    .colab-df-convert:hover {\n",
              "      background-color: #E2EBFA;\n",
              "      box-shadow: 0px 1px 2px rgba(60, 64, 67, 0.3), 0px 1px 3px 1px rgba(60, 64, 67, 0.15);\n",
              "      fill: #174EA6;\n",
              "    }\n",
              "\n",
              "    [theme=dark] .colab-df-convert {\n",
              "      background-color: #3B4455;\n",
              "      fill: #D2E3FC;\n",
              "    }\n",
              "\n",
              "    [theme=dark] .colab-df-convert:hover {\n",
              "      background-color: #434B5C;\n",
              "      box-shadow: 0px 1px 3px 1px rgba(0, 0, 0, 0.15);\n",
              "      filter: drop-shadow(0px 1px 2px rgba(0, 0, 0, 0.3));\n",
              "      fill: #FFFFFF;\n",
              "    }\n",
              "  </style>\n",
              "\n",
              "      <script>\n",
              "        const buttonEl =\n",
              "          document.querySelector('#df-bb676964-2aba-4293-aa83-f228e71b84dc button.colab-df-convert');\n",
              "        buttonEl.style.display =\n",
              "          google.colab.kernel.accessAllowed ? 'block' : 'none';\n",
              "\n",
              "        async function convertToInteractive(key) {\n",
              "          const element = document.querySelector('#df-bb676964-2aba-4293-aa83-f228e71b84dc');\n",
              "          const dataTable =\n",
              "            await google.colab.kernel.invokeFunction('convertToInteractive',\n",
              "                                                     [key], {});\n",
              "          if (!dataTable) return;\n",
              "\n",
              "          const docLinkHtml = 'Like what you see? Visit the ' +\n",
              "            '<a target=\"_blank\" href=https://colab.research.google.com/notebooks/data_table.ipynb>data table notebook</a>'\n",
              "            + ' to learn more about interactive tables.';\n",
              "          element.innerHTML = '';\n",
              "          dataTable['output_type'] = 'display_data';\n",
              "          await google.colab.output.renderOutput(dataTable, element);\n",
              "          const docLink = document.createElement('div');\n",
              "          docLink.innerHTML = docLinkHtml;\n",
              "          element.appendChild(docLink);\n",
              "        }\n",
              "      </script>\n",
              "    </div>\n",
              "  </div>\n",
              "  "
            ]
          },
          "metadata": {},
          "execution_count": 16
        }
      ],
      "source": [
        "# 숫자 분포 이루어진 컬럼 확인\n",
        "df1.tail()"
      ]
    },
    {
      "cell_type": "code",
      "execution_count": null,
      "metadata": {
        "id": "g5t2T8wc0YIL"
      },
      "outputs": [],
      "source": [
        "from sklearn.preprocessing import MinMaxScaler"
      ]
    },
    {
      "cell_type": "code",
      "execution_count": null,
      "metadata": {
        "id": "clXrLKXg0YIL"
      },
      "outputs": [],
      "source": [
        "scaler = MinMaxScaler()\n",
        "X_train = scaler.fit_transform(X_train)\n",
        "X_test = scaler.transform(X_test)"
      ]
    },
    {
      "cell_type": "code",
      "execution_count": null,
      "metadata": {
        "id": "zi-u0wTB0YIL",
        "colab": {
          "base_uri": "https://localhost:8080/"
        },
        "outputId": "3842f0c3-3153-4a98-a709-db5962b95725"
      },
      "outputs": [
        {
          "output_type": "execute_result",
          "data": {
            "text/plain": [
              "array([[0.65277778, 0.56851021, 0.40877722, 1.        , 0.        ,\n",
              "        1.        , 0.        , 1.        , 0.        , 1.        ,\n",
              "        0.        , 0.        , 0.        , 1.        , 0.        ,\n",
              "        0.        , 0.        , 1.        , 1.        , 0.        ,\n",
              "        0.        , 1.        , 0.        , 0.        , 1.        ,\n",
              "        0.        , 0.        , 1.        , 0.        , 0.        ,\n",
              "        1.        , 0.        , 0.        , 1.        , 0.        ,\n",
              "        0.        , 1.        , 0.        , 0.        ],\n",
              "       [0.27777778, 0.00498256, 0.04008671, 1.        , 0.        ,\n",
              "        1.        , 0.        , 1.        , 0.        , 1.        ,\n",
              "        0.        , 0.        , 0.        , 0.        , 1.        ,\n",
              "        0.        , 1.        , 0.        , 0.        , 1.        ,\n",
              "        0.        , 0.        , 1.        , 0.        , 0.        ,\n",
              "        1.        , 0.        , 0.        , 1.        , 0.        ,\n",
              "        1.        , 0.        , 0.        , 0.        , 1.        ,\n",
              "        0.        , 1.        , 0.        , 0.        ]])"
            ]
          },
          "metadata": {},
          "execution_count": 19
        }
      ],
      "source": [
        "X_train[:2]"
      ]
    },
    {
      "cell_type": "markdown",
      "metadata": {
        "id": "fUKskwle0YIM"
      },
      "source": [
        "## ⑦ 딥러닝 심층신경망(DNN) 모델 구현"
      ]
    },
    {
      "cell_type": "markdown",
      "metadata": {
        "id": "-qtH1IV_0YIM"
      },
      "source": [
        "####  \n",
        "### 라이브러리 임포트"
      ]
    },
    {
      "cell_type": "code",
      "execution_count": null,
      "metadata": {
        "id": "xZ-81qT80YIM"
      },
      "outputs": [],
      "source": [
        "import tensorflow as tf\n",
        "# from tensorflow.keras.models import Sequential\n",
        "# from tensorflow.keras.layers import Dense, Dropout\n",
        "\n",
        "tf.random.set_seed(100)"
      ]
    },
    {
      "cell_type": "markdown",
      "metadata": {
        "id": "VUDoigSc0YIM"
      },
      "source": [
        "####  \n",
        "### 하이퍼파라미터 설정 : batch_size, epochs"
      ]
    },
    {
      "cell_type": "code",
      "execution_count": null,
      "metadata": {
        "id": "zmEdqNNS0YIM"
      },
      "outputs": [],
      "source": [
        "batch_size = 16\n",
        "epochs = 20"
      ]
    },
    {
      "cell_type": "markdown",
      "metadata": {
        "id": "PqXbXmeD0YIN"
      },
      "source": [
        "####  \n",
        "### 모델 입력(features) 갯수 확인"
      ]
    },
    {
      "cell_type": "code",
      "execution_count": null,
      "metadata": {
        "id": "zCUyUw6J0YIN",
        "colab": {
          "base_uri": "https://localhost:8080/"
        },
        "outputId": "672e0694-94d3-487b-9a08-e2d8c5d40857"
      },
      "outputs": [
        {
          "output_type": "execute_result",
          "data": {
            "text/plain": [
              "(4918, 39)"
            ]
          },
          "metadata": {},
          "execution_count": 22
        }
      ],
      "source": [
        "X_train.shape"
      ]
    },
    {
      "cell_type": "markdown",
      "metadata": {
        "id": "L1mqWzpz0YIN"
      },
      "source": [
        "####  \n",
        "### 모델 출력(label) 갯수 확인"
      ]
    },
    {
      "cell_type": "code",
      "execution_count": null,
      "metadata": {
        "id": "kzVC8VGO0YIN",
        "colab": {
          "base_uri": "https://localhost:8080/"
        },
        "outputId": "5716895a-a3ae-4314-8993-ca381f1ac336"
      },
      "outputs": [
        {
          "output_type": "execute_result",
          "data": {
            "text/plain": [
              "(4918,)"
            ]
          },
          "metadata": {},
          "execution_count": 23
        }
      ],
      "source": [
        "y_train.shape"
      ]
    },
    {
      "cell_type": "markdown",
      "metadata": {
        "id": "1zLx5_rB0YIO"
      },
      "source": [
        "####  \n",
        "### A. 이진분류 DNN모델 구성 "
      ]
    },
    {
      "cell_type": "markdown",
      "metadata": {
        "id": "zKKe_aOJ0YIO"
      },
      "source": [
        "![hidden Layer](https://github.com/gzone2000/TEMP_TEST/raw/master/hidden_layer1.PNG)\n",
        "+ [출처] https://subscription.packtpub.com/book/data/9781788995207/1/ch01lvl1sec03/deep-learning-intuition"
      ]
    },
    {
      "cell_type": "markdown",
      "metadata": {
        "id": "2LX2K8Hu0YIO"
      },
      "source": [
        "##### <font color=blue> **[문제] 요구사항대로 Sequential 모델을 만들어 보세요.** </font>"
      ]
    },
    {
      "cell_type": "code",
      "execution_count": null,
      "metadata": {
        "id": "Fygby0lS0YIO"
      },
      "outputs": [],
      "source": [
        "# Sequential() 모델 정의 하고 model로 저장\n",
        "# input layer는 input_shape=() 옵션을 사용한다.\n",
        "# 39개 input layer\n",
        "# unit 4개 hidden layer\n",
        "# unit 3개 hidden layer \n",
        "# 1개 output layser : 이진분류\n",
        "model_dnn = tf.keras.Sequential([\n",
        "    tf.keras.layers.Dense(4,  activation='relu', input_shape=(39,)),\n",
        "    tf.keras.layers.Dense(3, activation='relu'),\n",
        "    tf.keras.layers.Dense(1,   activation='sigmoid')\n",
        "    ])"
      ]
    },
    {
      "cell_type": "markdown",
      "metadata": {
        "id": "gRD_erqd0YIO"
      },
      "source": [
        "####  \n",
        "### 모델 확인"
      ]
    },
    {
      "cell_type": "code",
      "execution_count": null,
      "metadata": {
        "id": "_dWPN4Hf0YIP",
        "colab": {
          "base_uri": "https://localhost:8080/"
        },
        "outputId": "cfb9e37f-4e37-426e-b40f-47d9d1c7e4db"
      },
      "outputs": [
        {
          "output_type": "stream",
          "name": "stdout",
          "text": [
            "Model: \"sequential\"\n",
            "_________________________________________________________________\n",
            " Layer (type)                Output Shape              Param #   \n",
            "=================================================================\n",
            " dense (Dense)               (None, 4)                 160       \n",
            "                                                                 \n",
            " dense_1 (Dense)             (None, 3)                 15        \n",
            "                                                                 \n",
            " dense_2 (Dense)             (None, 1)                 4         \n",
            "                                                                 \n",
            "=================================================================\n",
            "Total params: 179\n",
            "Trainable params: 179\n",
            "Non-trainable params: 0\n",
            "_________________________________________________________________\n"
          ]
        }
      ],
      "source": [
        "model_dnn.summary()"
      ]
    },
    {
      "cell_type": "markdown",
      "metadata": {
        "id": "hArp-8W00YIP"
      },
      "source": [
        "####  \n",
        "### 모델 구성 -  과적합 방지"
      ]
    },
    {
      "cell_type": "markdown",
      "metadata": {
        "id": "P12SscRX0YIP"
      },
      "source": [
        "![dropout](https://github.com/gzone2000/TEMP_TEST/raw/master/dropout.PNG)\n",
        "+ [출처] https://medium.com/@amarbudhiraja/https-medium-com-amarbudhiraja-learning-less-to-learn-better-dropout-in-deep-machine-learning-74334da4bfc5"
      ]
    },
    {
      "cell_type": "code",
      "execution_count": null,
      "metadata": {
        "id": "hTZ0lfsB0YIP"
      },
      "outputs": [],
      "source": [
        "# 모델에 Dropout 적용하기\n",
        "drop_prob1, drop_prob2 = 0.3, 0.2\n",
        "model_dnn = tf.keras.Sequential([\n",
        "    tf.keras.layers.Dense(4,  activation='relu', input_shape=(39,)),\n",
        "    tf.keras.layers.Dropout(drop_prob1),\n",
        "    tf.keras.layers.Dense(3, activation='relu'),\n",
        "    tf.keras.layers.Dropout(drop_prob2),\n",
        "    tf.keras.layers.Dense(1, activation='sigmoid')\n",
        "    ])"
      ]
    },
    {
      "cell_type": "markdown",
      "source": [
        "## tf.keras.layers.BatchNormalization()\n",
        "\n",
        "```\n",
        "tf.keras.layers.BatchNormalization(\n",
        "    axis=-1,\n",
        "    momentum=0.99,\n",
        "    epsilon=0.001,\n",
        "    center=True,\n",
        "    scale=True,\n",
        "    beta_initializer=\"zeros\",\n",
        "    gamma_initializer=\"ones\",\n",
        "    moving_mean_initializer=\"zeros\",\n",
        "    moving_variance_initializer=\"ones\",\n",
        "    beta_regularizer=None,\n",
        "    gamma_regularizer=None,\n",
        "    beta_constraint=None,\n",
        "    gamma_constraint=None,\n",
        "    **kwargs\n",
        ")\n",
        "```"
      ],
      "metadata": {
        "id": "_EC7CP1Lbe0t"
      }
    },
    {
      "cell_type": "markdown",
      "metadata": {
        "id": "awF-BLSo0YIQ"
      },
      "source": [
        "####  \n",
        "### 과적합 방지 모델 확인"
      ]
    },
    {
      "cell_type": "code",
      "execution_count": null,
      "metadata": {
        "id": "5EPZjdj80YIQ",
        "colab": {
          "base_uri": "https://localhost:8080/"
        },
        "outputId": "6e5bead7-e7ec-4b9d-bf70-284baf312ee5"
      },
      "outputs": [
        {
          "output_type": "stream",
          "name": "stdout",
          "text": [
            "Model: \"sequential_1\"\n",
            "_________________________________________________________________\n",
            " Layer (type)                Output Shape              Param #   \n",
            "=================================================================\n",
            " dense_5 (Dense)             (None, 4)                 160       \n",
            "                                                                 \n",
            " dropout_1 (Dropout)         (None, 4)                 0         \n",
            "                                                                 \n",
            " dense_6 (Dense)             (None, 3)                 15        \n",
            "                                                                 \n",
            " dropout_2 (Dropout)         (None, 3)                 0         \n",
            "                                                                 \n",
            " dense_7 (Dense)             (None, 1)                 4         \n",
            "                                                                 \n",
            "=================================================================\n",
            "Total params: 179\n",
            "Trainable params: 179\n",
            "Non-trainable params: 0\n",
            "_________________________________________________________________\n"
          ]
        }
      ],
      "source": [
        "model_dnn.summary()"
      ]
    },
    {
      "cell_type": "markdown",
      "metadata": {
        "id": "1VOruMmv0YIQ"
      },
      "source": [
        "####  \n",
        "### 모델 컴파일 – 이진 분류 모델"
      ]
    },
    {
      "cell_type": "markdown",
      "metadata": {
        "id": "z1MKD3QXHa5L"
      },
      "source": [
        "##### <font color=blue> **[문제] 요구사항대로 모델을 comfile 하세요.** </font>"
      ]
    },
    {
      "cell_type": "code",
      "execution_count": null,
      "metadata": {
        "id": "nVZnbiNp0YIQ"
      },
      "outputs": [],
      "source": [
        "# optimizer 는 'adam' , loss 는 이진분류에 사용하는것, merics는 'accuracy' 지정합니다.\n",
        "model_dnn.compile(optimizer='adam',\n",
        "                  loss='binary_crossentropy',\n",
        "                  metrics=['accuracy'])"
      ]
    },
    {
      "cell_type": "markdown",
      "metadata": {
        "id": "mHEfmI450YIQ"
      },
      "source": [
        "- 모델 컴파일 – 다중 분류 모델 (Y값을 One-Hot-Encoding 한경우) <br>\n",
        "model.compile(optimizer='adam', loss='categorical_crossentropy', metrics=['accuracy'])"
      ]
    },
    {
      "cell_type": "markdown",
      "metadata": {
        "id": "qvjLtvLO0YIR"
      },
      "source": [
        "- 모델 컴파일 – 다중 분류 모델  (Y값을 One-Hot-Encoding 하지 않은 경우) <br>\n",
        "model.compile(optimizer='adam', loss='sparse_categorical_crossentropy', metrics=['accuracy'])"
      ]
    },
    {
      "cell_type": "markdown",
      "metadata": {
        "id": "AK35wHQq0YIR"
      },
      "source": [
        "- 모델 컴파일 – 예측 모델\n",
        "model.compile(optimizer='adam', loss='mse')"
      ]
    },
    {
      "cell_type": "markdown",
      "metadata": {
        "id": "rTX4ExMb0YIR"
      },
      "source": [
        "####  \n",
        "### 모델 학습"
      ]
    },
    {
      "cell_type": "markdown",
      "metadata": {
        "id": "l-H8W9R80YIR"
      },
      "source": [
        "##### <font color=blue> **[문제] 요구사항대로 DNN 모델을 학습시키세요.** </font>\n",
        "+ 모델 이름 : model\n",
        "+ epoch : 10번\n",
        "+ batch_size : 10번"
      ]
    },
    {
      "cell_type": "code",
      "execution_count": null,
      "metadata": {
        "id": "l0VkwonN0YIS",
        "colab": {
          "base_uri": "https://localhost:8080/"
        },
        "outputId": "1fed38ad-7feb-4f53-813b-3930a1e56b79"
      },
      "outputs": [
        {
          "output_type": "stream",
          "name": "stdout",
          "text": [
            "Epoch 1/10\n",
            "308/308 [==============================] - 4s 4ms/step - loss: 0.6272 - accuracy: 0.7318 - val_loss: 0.5539 - val_accuracy: 0.7345\n",
            "Epoch 2/10\n",
            "308/308 [==============================] - 1s 4ms/step - loss: 0.5716 - accuracy: 0.7363 - val_loss: 0.5067 - val_accuracy: 0.7345\n",
            "Epoch 3/10\n",
            "308/308 [==============================] - 1s 4ms/step - loss: 0.5467 - accuracy: 0.7552 - val_loss: 0.4891 - val_accuracy: 0.7345\n",
            "Epoch 4/10\n",
            "308/308 [==============================] - 1s 4ms/step - loss: 0.5313 - accuracy: 0.7574 - val_loss: 0.4793 - val_accuracy: 0.7345\n",
            "Epoch 5/10\n",
            "308/308 [==============================] - 1s 4ms/step - loss: 0.5257 - accuracy: 0.7566 - val_loss: 0.4770 - val_accuracy: 0.7345\n",
            "Epoch 6/10\n",
            "308/308 [==============================] - 1s 4ms/step - loss: 0.5197 - accuracy: 0.7554 - val_loss: 0.4739 - val_accuracy: 0.7345\n",
            "Epoch 7/10\n",
            "308/308 [==============================] - 1s 4ms/step - loss: 0.5218 - accuracy: 0.7538 - val_loss: 0.4721 - val_accuracy: 0.7345\n",
            "Epoch 8/10\n",
            "308/308 [==============================] - 1s 4ms/step - loss: 0.5160 - accuracy: 0.7542 - val_loss: 0.4750 - val_accuracy: 0.7345\n",
            "Epoch 9/10\n",
            "308/308 [==============================] - 1s 4ms/step - loss: 0.5124 - accuracy: 0.7635 - val_loss: 0.4689 - val_accuracy: 0.7345\n",
            "Epoch 10/10\n",
            "308/308 [==============================] - 1s 4ms/step - loss: 0.5159 - accuracy: 0.7570 - val_loss: 0.4737 - val_accuracy: 0.7345\n"
          ]
        }
      ],
      "source": [
        "# 앞쪽에서 정의된 모델 이름 : model\n",
        "# Sequential 모델의 fit() 함수 사용\n",
        "# @인자\n",
        "### X, y : X_train, y_train\n",
        "### validation_data=(X_test, y_test)\n",
        "### epochs 10번\n",
        "### batch_size 16\n",
        "history = model_dnn.fit(X_train, y_train,\n",
        "                        validation_data=(X_test, y_test),\n",
        "                        epochs=10,\n",
        "                        batch_size=16)"
      ]
    },
    {
      "cell_type": "markdown",
      "metadata": {
        "id": "WPZYzqib0YIS"
      },
      "source": [
        "####  \n",
        "### B. 다중 분류 DNN 구성\n",
        "+ 13개 input layer\n",
        "+ unit 5개 hidden layer\n",
        "+ dropout\n",
        "+ unit 4개 hidden layer \n",
        "+ dropout\n",
        "+ 2개 output layser : 다중분류"
      ]
    },
    {
      "cell_type": "markdown",
      "metadata": {
        "id": "Opb5-0OI0YIS"
      },
      "source": [
        "![다중분류](https://github.com/gzone2000/TEMP_TEST/raw/master/hidden_layer2.PNG)\n",
        "+ [출처] https://www.educba.com/dnn-neural-network/"
      ]
    },
    {
      "cell_type": "code",
      "execution_count": null,
      "metadata": {
        "id": "k0Tiq3A40YIS"
      },
      "outputs": [],
      "source": [
        "# 39개 input layer\n",
        "# unit 5개 hidden layer\n",
        "# dropout\n",
        "# unit 4개 hidden layer \n",
        "# dropout\n",
        "# 2개 output layser : 다중분류, activation- softmax\n",
        "drop_prob1, drop_prob2 = 0.3, 0.2\n",
        "model_dnn2 = tf.keras.Sequential([\n",
        "    tf.keras.layers.Dense(5,  activation='relu', input_shape=(39,)),\n",
        "    tf.keras.layers.Dropout(drop_prob1),\n",
        "    #tf.keras.layers.BatchNamlization(),\n",
        "    tf.keras.layers.Dense(4, activation='relu'),\n",
        "    tf.keras.layers.Dropout(drop_prob2),\n",
        "    tf.keras.layers.Dense(2, activation='softmax')\n",
        "    ])"
      ]
    },
    {
      "cell_type": "markdown",
      "metadata": {
        "id": "sheeDtax0YIS"
      },
      "source": [
        "####  \n",
        "### 모델 확인"
      ]
    },
    {
      "cell_type": "code",
      "execution_count": null,
      "metadata": {
        "id": "sLGbErrf0YIT",
        "colab": {
          "base_uri": "https://localhost:8080/"
        },
        "outputId": "bf4e34aa-83ef-410a-a05d-534c70324a03"
      },
      "outputs": [
        {
          "output_type": "stream",
          "name": "stdout",
          "text": [
            "Model: \"sequential_2\"\n",
            "_________________________________________________________________\n",
            " Layer (type)                Output Shape              Param #   \n",
            "=================================================================\n",
            " dense_8 (Dense)             (None, 5)                 200       \n",
            "                                                                 \n",
            " dropout_3 (Dropout)         (None, 5)                 0         \n",
            "                                                                 \n",
            " dense_9 (Dense)             (None, 4)                 24        \n",
            "                                                                 \n",
            " dropout_4 (Dropout)         (None, 4)                 0         \n",
            "                                                                 \n",
            " dense_10 (Dense)            (None, 2)                 10        \n",
            "                                                                 \n",
            "=================================================================\n",
            "Total params: 234\n",
            "Trainable params: 234\n",
            "Non-trainable params: 0\n",
            "_________________________________________________________________\n"
          ]
        }
      ],
      "source": [
        "model_dnn2.summary()"
      ]
    },
    {
      "cell_type": "markdown",
      "metadata": {
        "id": "uSa3lsUp0YIT"
      },
      "source": [
        "####  \n",
        "### 모델 컴파일 – 다중 분류 모델"
      ]
    },
    {
      "cell_type": "code",
      "execution_count": null,
      "metadata": {
        "id": "DYEQKGgTIZ6S",
        "colab": {
          "base_uri": "https://localhost:8080/"
        },
        "outputId": "17ee30f0-1ee6-4579-d084-cbaf3890094b"
      },
      "outputs": [
        {
          "output_type": "execute_result",
          "data": {
            "text/plain": [
              "(4918,)"
            ]
          },
          "metadata": {},
          "execution_count": 54
        }
      ],
      "source": [
        "y_train.shape"
      ]
    },
    {
      "cell_type": "code",
      "execution_count": null,
      "metadata": {
        "id": "8uqwCzFC0YIT"
      },
      "outputs": [],
      "source": [
        "model_dnn2.compile(optimizer='adam', \n",
        "              loss='sparse_categorical_crossentropy', \n",
        "              metrics=['accuracy']) "
      ]
    },
    {
      "cell_type": "markdown",
      "metadata": {
        "id": "RhUlTphR0YIT"
      },
      "source": [
        "####  \n",
        "### 모델 학습"
      ]
    },
    {
      "cell_type": "code",
      "execution_count": null,
      "metadata": {
        "id": "FfooZ2jr0YIT",
        "colab": {
          "base_uri": "https://localhost:8080/"
        },
        "outputId": "e2c39e08-ce2d-49aa-87bb-d046062f8d8d"
      },
      "outputs": [
        {
          "output_type": "stream",
          "name": "stdout",
          "text": [
            "Epoch 1/20\n",
            "308/308 [==============================] - 2s 7ms/step - loss: 0.4583 - accuracy: 0.7806 - val_loss: 0.4267 - val_accuracy: 0.7994\n",
            "Epoch 2/20\n",
            "308/308 [==============================] - 2s 7ms/step - loss: 0.4629 - accuracy: 0.7810 - val_loss: 0.4254 - val_accuracy: 0.8028\n",
            "Epoch 3/20\n",
            "308/308 [==============================] - 2s 5ms/step - loss: 0.4589 - accuracy: 0.7769 - val_loss: 0.4253 - val_accuracy: 0.7952\n",
            "Epoch 4/20\n",
            "308/308 [==============================] - 1s 4ms/step - loss: 0.4660 - accuracy: 0.7723 - val_loss: 0.4248 - val_accuracy: 0.8018\n",
            "Epoch 5/20\n",
            "308/308 [==============================] - 1s 3ms/step - loss: 0.4622 - accuracy: 0.7784 - val_loss: 0.4249 - val_accuracy: 0.8013\n",
            "Epoch 6/20\n",
            "308/308 [==============================] - 1s 3ms/step - loss: 0.4670 - accuracy: 0.7778 - val_loss: 0.4260 - val_accuracy: 0.8037\n",
            "Epoch 7/20\n",
            "308/308 [==============================] - 1s 3ms/step - loss: 0.4617 - accuracy: 0.7753 - val_loss: 0.4251 - val_accuracy: 0.7952\n",
            "Epoch 8/20\n",
            "308/308 [==============================] - 1s 4ms/step - loss: 0.4630 - accuracy: 0.7778 - val_loss: 0.4267 - val_accuracy: 0.7980\n",
            "Epoch 9/20\n",
            "308/308 [==============================] - 1s 4ms/step - loss: 0.4598 - accuracy: 0.7767 - val_loss: 0.4252 - val_accuracy: 0.8023\n",
            "Epoch 10/20\n",
            "308/308 [==============================] - 1s 3ms/step - loss: 0.4624 - accuracy: 0.7784 - val_loss: 0.4273 - val_accuracy: 0.8037\n",
            "Epoch 11/20\n",
            "308/308 [==============================] - 2s 5ms/step - loss: 0.4646 - accuracy: 0.7737 - val_loss: 0.4249 - val_accuracy: 0.7999\n",
            "Epoch 12/20\n",
            "308/308 [==============================] - 2s 6ms/step - loss: 0.4656 - accuracy: 0.7727 - val_loss: 0.4257 - val_accuracy: 0.8009\n",
            "Epoch 13/20\n",
            "308/308 [==============================] - 2s 6ms/step - loss: 0.4629 - accuracy: 0.7725 - val_loss: 0.4247 - val_accuracy: 0.7980\n",
            "Epoch 14/20\n",
            "308/308 [==============================] - 1s 3ms/step - loss: 0.4695 - accuracy: 0.7773 - val_loss: 0.4265 - val_accuracy: 0.8046\n",
            "Epoch 15/20\n",
            "308/308 [==============================] - 1s 3ms/step - loss: 0.4675 - accuracy: 0.7765 - val_loss: 0.4253 - val_accuracy: 0.7975\n",
            "Epoch 16/20\n",
            "308/308 [==============================] - 1s 3ms/step - loss: 0.4586 - accuracy: 0.7782 - val_loss: 0.4243 - val_accuracy: 0.8042\n",
            "Epoch 17/20\n",
            "308/308 [==============================] - 1s 4ms/step - loss: 0.4635 - accuracy: 0.7735 - val_loss: 0.4257 - val_accuracy: 0.7999\n",
            "Epoch 18/20\n",
            "308/308 [==============================] - 1s 4ms/step - loss: 0.4583 - accuracy: 0.7719 - val_loss: 0.4237 - val_accuracy: 0.8037\n",
            "Epoch 19/20\n",
            "308/308 [==============================] - 1s 3ms/step - loss: 0.4613 - accuracy: 0.7767 - val_loss: 0.4234 - val_accuracy: 0.8037\n",
            "Epoch 20/20\n",
            "308/308 [==============================] - 1s 4ms/step - loss: 0.4611 - accuracy: 0.7733 - val_loss: 0.4244 - val_accuracy: 0.8037\n"
          ]
        }
      ],
      "source": [
        "history2 = model_dnn2.fit(X_train, y_train, \n",
        "          validation_data=(X_test, y_test),\n",
        "          epochs=20, \n",
        "          batch_size=16)"
      ]
    },
    {
      "cell_type": "markdown",
      "metadata": {
        "id": "qsohXyXZ0YIT"
      },
      "source": [
        "####  \n",
        "### Callback : 조기종료, 모델 저장"
      ]
    },
    {
      "cell_type": "markdown",
      "source": [
        "과적합을 방지하기 위해 사용"
      ],
      "metadata": {
        "id": "2TI0lvSnVFvm"
      }
    },
    {
      "cell_type": "code",
      "source": [
        "#from tensorflow.keras.callbacks import EarlyStopping, ModelCheckpoint"
      ],
      "metadata": {
        "id": "_WrP3Q99d038"
      },
      "execution_count": null,
      "outputs": []
    },
    {
      "cell_type": "code",
      "execution_count": null,
      "metadata": {
        "id": "hoOULwhL0YIU"
      },
      "outputs": [],
      "source": [
        "# val_loss 모니터링해서 성능이 5번 지나도록 좋아지지 않으면 조기 종료\n",
        "early_stop = tf.keras.callbacks.EarlyStopping(monitor='val_loss',# 모니터 기준 설정 (val loss) \n",
        "                                              mode='min',\n",
        "                                              verbose=1,\n",
        "                                              patience=5) # 5회 Epoch동안 개선되지 않는다면 종료"
      ]
    },
    {
      "cell_type": "code",
      "execution_count": null,
      "metadata": {
        "id": "bKT5doN10YIU"
      },
      "outputs": [],
      "source": [
        "# val_loss 가장 낮은 값을 가질때마다 모델저장\n",
        "check_point = tf.keras.callbacks.ModelCheckpoint('best_model.h5',# file명을 지정합니다\n",
        "                              verbose=1, # 로그를 출력합니다\n",
        "                              monitor='val_loss',# val_loss 값이 개선되었을때 호출됩니다\n",
        "                              mode='min',# auto는 알아서 best를 찾습니다. min = val_loss 가장 낮은 값을 가질때마다 모델저장/max\n",
        "                              save_best_only=True)# 가장 best 값만 저장합니다"
      ]
    },
    {
      "cell_type": "markdown",
      "metadata": {
        "id": "3IUAfPnJ0YIU"
      },
      "source": [
        "####  \n",
        "### 모델 학습"
      ]
    },
    {
      "cell_type": "code",
      "execution_count": null,
      "metadata": {
        "id": "-TYvrlT90YIU"
      },
      "outputs": [],
      "source": [
        "history = model_dnn.fit(x=X_train, y=y_train, \n",
        "          epochs=50 , batch_size=20,\n",
        "          validation_data=(X_test, y_test), verbose=1,\n",
        "          callbacks=[early_stop, check_point])"
      ]
    },
    {
      "cell_type": "markdown",
      "metadata": {
        "id": "pWF_TAU-0YIV"
      },
      "source": [
        "####  \n",
        "## ⑧ 모델 성능 평가"
      ]
    },
    {
      "cell_type": "code",
      "execution_count": null,
      "metadata": {
        "id": "htUz49CR0YIV"
      },
      "outputs": [],
      "source": [
        "losses = pd.DataFrame(history.history)"
      ]
    },
    {
      "cell_type": "code",
      "execution_count": null,
      "metadata": {
        "id": "6GAnPrgb0YIV",
        "colab": {
          "base_uri": "https://localhost:8080/",
          "height": 206
        },
        "outputId": "b713e0d8-52fd-4482-8f74-a2d0be79ddb3"
      },
      "outputs": [
        {
          "output_type": "execute_result",
          "data": {
            "text/plain": [
              "       loss  accuracy  val_loss  val_accuracy\n",
              "0  0.517931  0.758032  0.474196      0.734471\n",
              "1  0.517099  0.758438  0.471823      0.734471\n",
              "2  0.511025  0.763522  0.469959      0.734945\n",
              "3  0.505405  0.763318  0.462565      0.735420\n",
              "4  0.512099  0.761285  0.463722      0.737316"
            ],
            "text/html": [
              "\n",
              "  <div id=\"df-4a795af7-4267-425d-a255-5763fd03cd2b\">\n",
              "    <div class=\"colab-df-container\">\n",
              "      <div>\n",
              "<style scoped>\n",
              "    .dataframe tbody tr th:only-of-type {\n",
              "        vertical-align: middle;\n",
              "    }\n",
              "\n",
              "    .dataframe tbody tr th {\n",
              "        vertical-align: top;\n",
              "    }\n",
              "\n",
              "    .dataframe thead th {\n",
              "        text-align: right;\n",
              "    }\n",
              "</style>\n",
              "<table border=\"1\" class=\"dataframe\">\n",
              "  <thead>\n",
              "    <tr style=\"text-align: right;\">\n",
              "      <th></th>\n",
              "      <th>loss</th>\n",
              "      <th>accuracy</th>\n",
              "      <th>val_loss</th>\n",
              "      <th>val_accuracy</th>\n",
              "    </tr>\n",
              "  </thead>\n",
              "  <tbody>\n",
              "    <tr>\n",
              "      <th>0</th>\n",
              "      <td>0.517931</td>\n",
              "      <td>0.758032</td>\n",
              "      <td>0.474196</td>\n",
              "      <td>0.734471</td>\n",
              "    </tr>\n",
              "    <tr>\n",
              "      <th>1</th>\n",
              "      <td>0.517099</td>\n",
              "      <td>0.758438</td>\n",
              "      <td>0.471823</td>\n",
              "      <td>0.734471</td>\n",
              "    </tr>\n",
              "    <tr>\n",
              "      <th>2</th>\n",
              "      <td>0.511025</td>\n",
              "      <td>0.763522</td>\n",
              "      <td>0.469959</td>\n",
              "      <td>0.734945</td>\n",
              "    </tr>\n",
              "    <tr>\n",
              "      <th>3</th>\n",
              "      <td>0.505405</td>\n",
              "      <td>0.763318</td>\n",
              "      <td>0.462565</td>\n",
              "      <td>0.735420</td>\n",
              "    </tr>\n",
              "    <tr>\n",
              "      <th>4</th>\n",
              "      <td>0.512099</td>\n",
              "      <td>0.761285</td>\n",
              "      <td>0.463722</td>\n",
              "      <td>0.737316</td>\n",
              "    </tr>\n",
              "  </tbody>\n",
              "</table>\n",
              "</div>\n",
              "      <button class=\"colab-df-convert\" onclick=\"convertToInteractive('df-4a795af7-4267-425d-a255-5763fd03cd2b')\"\n",
              "              title=\"Convert this dataframe to an interactive table.\"\n",
              "              style=\"display:none;\">\n",
              "        \n",
              "  <svg xmlns=\"http://www.w3.org/2000/svg\" height=\"24px\"viewBox=\"0 0 24 24\"\n",
              "       width=\"24px\">\n",
              "    <path d=\"M0 0h24v24H0V0z\" fill=\"none\"/>\n",
              "    <path d=\"M18.56 5.44l.94 2.06.94-2.06 2.06-.94-2.06-.94-.94-2.06-.94 2.06-2.06.94zm-11 1L8.5 8.5l.94-2.06 2.06-.94-2.06-.94L8.5 2.5l-.94 2.06-2.06.94zm10 10l.94 2.06.94-2.06 2.06-.94-2.06-.94-.94-2.06-.94 2.06-2.06.94z\"/><path d=\"M17.41 7.96l-1.37-1.37c-.4-.4-.92-.59-1.43-.59-.52 0-1.04.2-1.43.59L10.3 9.45l-7.72 7.72c-.78.78-.78 2.05 0 2.83L4 21.41c.39.39.9.59 1.41.59.51 0 1.02-.2 1.41-.59l7.78-7.78 2.81-2.81c.8-.78.8-2.07 0-2.86zM5.41 20L4 18.59l7.72-7.72 1.47 1.35L5.41 20z\"/>\n",
              "  </svg>\n",
              "      </button>\n",
              "      \n",
              "  <style>\n",
              "    .colab-df-container {\n",
              "      display:flex;\n",
              "      flex-wrap:wrap;\n",
              "      gap: 12px;\n",
              "    }\n",
              "\n",
              "    .colab-df-convert {\n",
              "      background-color: #E8F0FE;\n",
              "      border: none;\n",
              "      border-radius: 50%;\n",
              "      cursor: pointer;\n",
              "      display: none;\n",
              "      fill: #1967D2;\n",
              "      height: 32px;\n",
              "      padding: 0 0 0 0;\n",
              "      width: 32px;\n",
              "    }\n",
              "\n",
              "    .colab-df-convert:hover {\n",
              "      background-color: #E2EBFA;\n",
              "      box-shadow: 0px 1px 2px rgba(60, 64, 67, 0.3), 0px 1px 3px 1px rgba(60, 64, 67, 0.15);\n",
              "      fill: #174EA6;\n",
              "    }\n",
              "\n",
              "    [theme=dark] .colab-df-convert {\n",
              "      background-color: #3B4455;\n",
              "      fill: #D2E3FC;\n",
              "    }\n",
              "\n",
              "    [theme=dark] .colab-df-convert:hover {\n",
              "      background-color: #434B5C;\n",
              "      box-shadow: 0px 1px 3px 1px rgba(0, 0, 0, 0.15);\n",
              "      filter: drop-shadow(0px 1px 2px rgba(0, 0, 0, 0.3));\n",
              "      fill: #FFFFFF;\n",
              "    }\n",
              "  </style>\n",
              "\n",
              "      <script>\n",
              "        const buttonEl =\n",
              "          document.querySelector('#df-4a795af7-4267-425d-a255-5763fd03cd2b button.colab-df-convert');\n",
              "        buttonEl.style.display =\n",
              "          google.colab.kernel.accessAllowed ? 'block' : 'none';\n",
              "\n",
              "        async function convertToInteractive(key) {\n",
              "          const element = document.querySelector('#df-4a795af7-4267-425d-a255-5763fd03cd2b');\n",
              "          const dataTable =\n",
              "            await google.colab.kernel.invokeFunction('convertToInteractive',\n",
              "                                                     [key], {});\n",
              "          if (!dataTable) return;\n",
              "\n",
              "          const docLinkHtml = 'Like what you see? Visit the ' +\n",
              "            '<a target=\"_blank\" href=https://colab.research.google.com/notebooks/data_table.ipynb>data table notebook</a>'\n",
              "            + ' to learn more about interactive tables.';\n",
              "          element.innerHTML = '';\n",
              "          dataTable['output_type'] = 'display_data';\n",
              "          await google.colab.output.renderOutput(dataTable, element);\n",
              "          const docLink = document.createElement('div');\n",
              "          docLink.innerHTML = docLinkHtml;\n",
              "          element.appendChild(docLink);\n",
              "        }\n",
              "      </script>\n",
              "    </div>\n",
              "  </div>\n",
              "  "
            ]
          },
          "metadata": {},
          "execution_count": 42
        }
      ],
      "source": [
        "losses.head()"
      ]
    },
    {
      "cell_type": "markdown",
      "metadata": {
        "id": "LwkmcZV90YIV"
      },
      "source": [
        "### 성능 시각화"
      ]
    },
    {
      "cell_type": "code",
      "execution_count": null,
      "metadata": {
        "id": "dQH2Ylx50YIV",
        "colab": {
          "base_uri": "https://localhost:8080/",
          "height": 285
        },
        "outputId": "c5bb7d44-35c1-4093-ad56-260510e7c8e9"
      },
      "outputs": [
        {
          "output_type": "execute_result",
          "data": {
            "text/plain": [
              "<matplotlib.axes._subplots.AxesSubplot at 0x7f2d80290f50>"
            ]
          },
          "metadata": {},
          "execution_count": 43
        },
        {
          "output_type": "display_data",
          "data": {
            "text/plain": [
              "<Figure size 432x288 with 1 Axes>"
            ],
            "image/png": "[encoded data removed]"
          },
          "metadata": {
            "needs_background": "light"
          }
        }
      ],
      "source": [
        "losses[['loss','val_loss']].plot()"
      ]
    },
    {
      "cell_type": "code",
      "execution_count": null,
      "metadata": {
        "id": "aOVaAShI0YIV",
        "colab": {
          "base_uri": "https://localhost:8080/",
          "height": 283
        },
        "outputId": "43e46045-6d57-4e82-cb5c-54070bb137c0"
      },
      "outputs": [
        {
          "output_type": "execute_result",
          "data": {
            "text/plain": [
              "<matplotlib.axes._subplots.AxesSubplot at 0x7f2d801fe290>"
            ]
          },
          "metadata": {},
          "execution_count": 44
        },
        {
          "output_type": "display_data",
          "data": {
            "text/plain": [
              "<Figure size 432x288 with 1 Axes>"
            ],
            "image/png": "[encoded data removed]"
          },
          "metadata": {
            "needs_background": "light"
          }
        }
      ],
      "source": [
        "losses[['loss','val_loss', 'accuracy','val_accuracy']].plot()"
      ]
    },
    {
      "cell_type": "code",
      "execution_count": null,
      "metadata": {
        "id": "p3Z4OGG40YIW",
        "scrolled": true,
        "colab": {
          "base_uri": "https://localhost:8080/",
          "height": 295
        },
        "outputId": "1b506211-6b1b-46b2-e470-eae47031de94"
      },
      "outputs": [
        {
          "output_type": "display_data",
          "data": {
            "text/plain": [
              "<Figure size 432x288 with 1 Axes>"
            ],
            "image/png": "[encoded data removed]"
          },
          "metadata": {
            "needs_background": "light"
          }
        }
      ],
      "source": [
        "plt.plot(history.history['accuracy'])\n",
        "plt.plot(history.history['val_accuracy'])\n",
        "plt.title('Accuracy')\n",
        "plt.xlabel('Epochs')\n",
        "plt.ylabel('Acc')\n",
        "plt.legend(['acc', 'val_acc'])\n",
        "plt.show()"
      ]
    },
    {
      "cell_type": "markdown",
      "metadata": {
        "id": "1u_eyBJL0YIW"
      },
      "source": [
        "### 성능 평가"
      ]
    },
    {
      "cell_type": "code",
      "execution_count": null,
      "metadata": {
        "id": "7tztF7yi0YIW"
      },
      "outputs": [],
      "source": [
        "from sklearn.metrics import accuracy_score, precision_score, recall_score, f1_score\n",
        "from sklearn.metrics import classification_report"
      ]
    },
    {
      "cell_type": "code",
      "execution_count": null,
      "metadata": {
        "id": "3IWrThr20YIW",
        "colab": {
          "base_uri": "https://localhost:8080/"
        },
        "outputId": "7bc2a0aa-3aa3-4530-d698-ee071f22332d"
      },
      "outputs": [
        {
          "output_type": "stream",
          "name": "stdout",
          "text": [
            "66/66 [==============================] - 0s 1ms/step\n"
          ]
        }
      ],
      "source": [
        "pred = model_dnn.predict(X_test)"
      ]
    },
    {
      "cell_type": "code",
      "execution_count": null,
      "metadata": {
        "id": "y_q7Pz-j0YIW",
        "colab": {
          "base_uri": "https://localhost:8080/"
        },
        "outputId": "e508f094-37bf-4b86-e089-458139f0be19"
      },
      "outputs": [
        {
          "output_type": "execute_result",
          "data": {
            "text/plain": [
              "(2109, 1)"
            ]
          },
          "metadata": {},
          "execution_count": 48
        }
      ],
      "source": [
        "pred.shape"
      ]
    },
    {
      "cell_type": "code",
      "execution_count": null,
      "metadata": {
        "id": "ogC2i7810YIa"
      },
      "outputs": [],
      "source": [
        "y_pred = np.argmax(pred, axis=1)"
      ]
    },
    {
      "cell_type": "code",
      "execution_count": null,
      "metadata": {
        "id": "gI0BTOmJJxCd",
        "colab": {
          "base_uri": "https://localhost:8080/"
        },
        "outputId": "9027613f-1aae-44a1-b17d-438cbfe06560"
      },
      "outputs": [
        {
          "output_type": "execute_result",
          "data": {
            "text/plain": [
              "array([0, 0, 0, ..., 0, 0, 0])"
            ]
          },
          "metadata": {},
          "execution_count": 50
        }
      ],
      "source": [
        "y_pred"
      ]
    },
    {
      "cell_type": "code",
      "execution_count": null,
      "metadata": {
        "id": "nEI_Exmv0YIa",
        "colab": {
          "base_uri": "https://localhost:8080/"
        },
        "outputId": "b0f74c8e-67f4-417b-9c90-ee30fce79bc0"
      },
      "outputs": [
        {
          "output_type": "execute_result",
          "data": {
            "text/plain": [
              "0.7344713134186819"
            ]
          },
          "metadata": {},
          "execution_count": 58
        }
      ],
      "source": [
        "# 정확도 80%\n",
        "accuracy_score(y_test, y_pred)"
      ]
    },
    {
      "cell_type": "code",
      "execution_count": null,
      "metadata": {
        "id": "Ftb7Y6K_0YIa",
        "colab": {
          "base_uri": "https://localhost:8080/"
        },
        "outputId": "08aacdb8-092a-4192-bfed-8fe377a175c8"
      },
      "outputs": [
        {
          "output_type": "execute_result",
          "data": {
            "text/plain": [
              "0.0"
            ]
          },
          "metadata": {},
          "execution_count": 52
        }
      ],
      "source": [
        "# 재현율 성능이 좋지 않다\n",
        "recall_score(y_test, y_pred)"
      ]
    },
    {
      "cell_type": "code",
      "execution_count": null,
      "metadata": {
        "id": "zEdx0ESm0YIb",
        "colab": {
          "base_uri": "https://localhost:8080/"
        },
        "outputId": "f80c7390-5f67-4c67-a090-36197b00c268"
      },
      "outputs": [
        {
          "output_type": "stream",
          "name": "stdout",
          "text": [
            "              precision    recall  f1-score   support\n",
            "\n",
            "           0       0.73      1.00      0.85      1549\n",
            "           1       0.00      0.00      0.00       560\n",
            "\n",
            "    accuracy                           0.73      2109\n",
            "   macro avg       0.37      0.50      0.42      2109\n",
            "weighted avg       0.54      0.73      0.62      2109\n",
            "\n"
          ]
        },
        {
          "output_type": "stream",
          "name": "stderr",
          "text": [
            "/usr/local/lib/python3.7/dist-packages/sklearn/metrics/_classification.py:1318: UndefinedMetricWarning: Precision and F-score are ill-defined and being set to 0.0 in labels with no predicted samples. Use `zero_division` parameter to control this behavior.\n",
            "  _warn_prf(average, modifier, msg_start, len(result))\n",
            "/usr/local/lib/python3.7/dist-packages/sklearn/metrics/_classification.py:1318: UndefinedMetricWarning: Precision and F-score are ill-defined and being set to 0.0 in labels with no predicted samples. Use `zero_division` parameter to control this behavior.\n",
            "  _warn_prf(average, modifier, msg_start, len(result))\n",
            "/usr/local/lib/python3.7/dist-packages/sklearn/metrics/_classification.py:1318: UndefinedMetricWarning: Precision and F-score are ill-defined and being set to 0.0 in labels with no predicted samples. Use `zero_division` parameter to control this behavior.\n",
            "  _warn_prf(average, modifier, msg_start, len(result))\n"
          ]
        }
      ],
      "source": [
        "# accuracy, recall, precision 성능 한번에 보기\n",
        "\n",
        "print(classification_report(y_test, y_pred))"
      ]
    }
  ],
  "metadata": {
    "colab": {
      "provenance": [],
      "include_colab_link": true
    },
    "kernelspec": {
      "display_name": "Python 3",
      "language": "python",
      "name": "python3"
    },
    "language_info": {
      "codemirror_mode": {
        "name": "ipython",
        "version": 3
      },
      "file_extension": ".py",
      "mimetype": "text/x-python",
      "name": "python",
      "nbconvert_exporter": "python",
      "pygments_lexer": "ipython3",
      "version": "3.7.3"
    },
    "accelerator": "GPU",
    "gpuClass": "standard"
  },
  "nbformat": 4,
  "nbformat_minor": 0
}